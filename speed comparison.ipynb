{
 "cells": [
  {
   "cell_type": "code",
   "execution_count": 1,
   "id": "uniform-symphony",
   "metadata": {},
   "outputs": [
    {
     "ename": "ArgumentError",
     "evalue": "ArgumentError: Package PyPlot not found in current path:\n- Run `import Pkg; Pkg.add(\"PyPlot\")` to install the PyPlot package.\n",
     "output_type": "error",
     "traceback": [
      "ArgumentError: Package PyPlot not found in current path:\n- Run `import Pkg; Pkg.add(\"PyPlot\")` to install the PyPlot package.\n",
      "",
      "Stacktrace:",
      " [1] require(::Module, ::Symbol) at .\\loading.jl:823",
      " [2] top-level scope at C:\\Users\\prakash\\.julia\\packages\\Plots\\cc8wh\\src\\backends.jl:488",
      " [3] eval at .\\boot.jl:319 [inlined]",
      " [4] _initialize_backend(::Plots.PyPlotBackend) at C:\\Users\\prakash\\.julia\\packages\\Plots\\cc8wh\\src\\backends.jl:487",
      " [5] backend(::Plots.PyPlotBackend) at C:\\Users\\prakash\\.julia\\packages\\Plots\\cc8wh\\src\\backends.jl:176",
      " [6] #pyplot#278 at C:\\Users\\prakash\\.julia\\packages\\Plots\\cc8wh\\src\\backends.jl:33 [inlined]",
      " [7] pyplot() at C:\\Users\\prakash\\.julia\\packages\\Plots\\cc8wh\\src\\backends.jl:33",
      " [8] top-level scope at In[1]:4"
     ]
    }
   ],
   "source": [
    "#parameters\n",
    "using DifferentialEquations\n",
    "using LaTeXStrings\n",
    "using Plots; pyplot(); # here, pyplot is used as a back-end to the Plots API\n",
    "using BenchmarkTools\n",
    "using Polynomials\n",
    "using LinearAlgebra\n",
    "using Sundials\n",
    "using Combinatorics\n",
    "using Flux\n",
    "using BSON: @load"
   ]
  },
  {
   "cell_type": "code",
   "execution_count": 2,
   "id": "actual-university",
   "metadata": {},
   "outputs": [
    {
     "ename": "LoadError",
     "evalue": "UndefVarError: @benchmark not defined",
     "output_type": "error",
     "traceback": [
      "UndefVarError: @benchmark not defined",
      ""
     ]
    }
   ],
   "source": [
    "#time calculation\n",
    "@benchmark sol_analytic = map(x -> hex_a(u_hex, par_hex_a, x), xspan_a) |> vec2vec\n",
    "@benchmark sol_numeric_Cp_T_dep = hex_n_Cp_T_dep(u_hex, par_hex_n_Cp_T_dep, xspan_n)\n",
    "@benchmark sol_numeric_Cp_T_dep = hex_n_Cp_T_indep(u_hex, par_hex_n_Cp_T_dep, xspan_n);\n"
   ]
  },
  {
   "cell_type": "code",
   "execution_count": 3,
   "id": "upset-tribune",
   "metadata": {},
   "outputs": [
    {
     "ename": "LoadError",
     "evalue": "UndefVarError: @benchmark not defined",
     "output_type": "error",
     "traceback": [
      "UndefVarError: @benchmark not defined",
      ""
     ]
    }
   ],
   "source": [
    "#data driven model(linear regression time calculation)\n",
    "# j = [1 to 12 orders]\n",
    "function TimeCalc(j)\n",
    "    Phi = [phi_m(Xscale[:,i];n=j) for i in 1:size(Xscale,2)]  |> x -> reduce(hcat,x)\n",
    "    β= Yscale/Phi\n",
    "    E1= Yscale-β*Phi\n",
    "    e1 = norm(E1)/sqrt(length(Yscale))\n",
    "end\n",
    "t1 = @benchmark TimeCalc(1)\n",
    "t2 = @benchmark TimeCalc(2)\n",
    "t3 = @benchmark TimeCalc(3)\n",
    "t4 = @benchmark TimeCalc(4)\n",
    "t5 = @benchmark TimeCalc(5)\n",
    "t6 = @benchmark TimeCalc(6)\n",
    "t7 = @benchmark TimeCalc(7)\n",
    "t8 = @benchmark TimeCalc(8)\n",
    "t9 = @benchmark TimeCalc(9)\n",
    "t10 = @benchmark TimeCalc(10)\n",
    "t11 = @benchmark TimeCalc(11)\n",
    "t12 = @benchmark TimeCalc(12)"
   ]
  },
  {
   "cell_type": "code",
   "execution_count": 4,
   "id": "underlying-passport",
   "metadata": {},
   "outputs": [
    {
     "ename": "LoadError",
     "evalue": "UndefVarError: @benchmark not defined",
     "output_type": "error",
     "traceback": [
      "UndefVarError: @benchmark not defined",
      ""
     ]
    }
   ],
   "source": [
    "#hybrid model time calculation\n",
    "#combining analytic model with regression model\n",
    "function timecalc(k)\n",
    "    function hex_a(inputs,par,β) \n",
    "    Twc, Tah, mdw, mda,UAx = inputs\n",
    "    chpw, chpa = par\n",
    "    # Stanton numbers for air and water.\n",
    "    NSta = UAx/chpa/mda\t# Stanton number for air, -\n",
    "    NStw = UAx/chpw/mdw\t# Stanton number for water, -\n",
    "    NStd = NStw - NSta\t# Difference in Stanton numbers, -\n",
    "    #\n",
    "    Tac = (NStd*Tah + NSta*(1-exp(-NStd))*Twc)/(NStw-NSta*exp(-NStd))    \n",
    "    Tw(x) = ((NStw*exp(-NStd*x)-NSta)*Twc+(NStw - NStw*exp(-NStd*x))*Tac)/NStd\n",
    "    Ta(x) = ((NSta*exp(-NStd*x)-NSta)*Twc+(NStw - NSta*exp(-NStd*x))*Tac)/NStd\n",
    "    Phi = [phi_m(Xscale[:,i];n=norder) for i in 1:size(Xscale,2)]  |> x -> reduce(hcat,x)\n",
    "    Ys=β*Phi\n",
    "    return [Ys[1] Ys[end]]\n",
    "    end\n",
    "end    \n",
    "@benchmark timecalc(k)"
   ]
  },
  {
   "cell_type": "code",
   "execution_count": 5,
   "id": "laughing-compound",
   "metadata": {},
   "outputs": [
    {
     "ename": "LoadError",
     "evalue": "UndefVarError: @benchmark not defined",
     "output_type": "error",
     "traceback": [
      "UndefVarError: @benchmark not defined",
      ""
     ]
    }
   ],
   "source": [
    "#data driven model(non linear regression)\n",
    "# time calculation\n",
    "function TimeCalc(nz)\n",
    "    #nz=node\n",
    "    # defining model\n",
    "    md = Chain(Dense(5,nz,tanh),Dense(nz,2))\n",
    "    # Initial mapping\n",
    "    Yd_0= md(Xd)\n",
    "    #Defining loss function\n",
    "    loss(x, y) = mean((md(x).-y).^2)\n",
    "    #specyfying optimization method\n",
    "    opt = ADAM(0.01, (0.99, 0.999))\n",
    "    # Extracting parameters from the model\n",
    "    par =Flux.params(md)\n",
    "    # Training over nE epochs\n",
    "    for i in 1:nE\n",
    "        Flux.train!(loss,par,data,opt)\n",
    "    end\n",
    "    # Final mapping\n",
    "    Yd_nE = md(Xd)\n",
    "    # Calculating error\n",
    "    RMSE = norm(Yd_nE-Yd)^2/sqrt(length(Yd)) \n",
    "end\n",
    "t = @benchmark TimeCalc(nz);"
   ]
  },
  {
   "cell_type": "code",
   "execution_count": 6,
   "id": "advisory-liverpool",
   "metadata": {},
   "outputs": [
    {
     "ename": "LoadError",
     "evalue": "UndefVarError: @benchmark not defined",
     "output_type": "error",
     "traceback": [
      "UndefVarError: @benchmark not defined",
      ""
     ]
    }
   ],
   "source": [
    "# hybrid model\n",
    "#combining analytic model with non-regression model\n",
    "function timecalc(k)\n",
    "    function hex_a(inputs,par,md) # If x is an Array/tuple, the function can generate the temperature profile across x.\n",
    "    Twc, Tah, mdw, mda,UAx, = inputs\n",
    "    chpw, chpa = par\n",
    "    # Stanton numbers for air and water.\n",
    "    NSta = UAx/chpa/mda\t# Stanton number for air, -\n",
    "    NStw = UAx/chpw/mdw\t# Stanton number for water, -\n",
    "    NStd = NStw - NSta\t# Difference in Stanton numbers, -\n",
    "    #\n",
    "    Tac = (NStd*Tah + NSta*(1-exp(-NStd))*Twc)/(NStw-NSta*exp(-NStd))    \n",
    "    Tw(x) = ((NStw*exp(-NStd*x)-NSta)*Twc+(NStw - NStw*exp(-NStd*x))*Tac)/NStd\n",
    "    Ta(x) = ((NSta*exp(-NStd*x)-NSta)*Twc+(NStw - NSta*exp(-NStd*x))*Tac)/NStd\n",
    "    Yd_nE = md(Xd)\n",
    "    return [ Yd_nE[1]  Yd_nE[end]]\n",
    "    end\n",
    "end\n",
    "@benchmark timecalc(k);"
   ]
  }
 ],
 "metadata": {
  "kernelspec": {
   "display_name": "Julia 1.0.5",
   "language": "julia",
   "name": "julia-1.0"
  },
  "language_info": {
   "file_extension": ".jl",
   "mimetype": "application/julia",
   "name": "julia",
   "version": "1.0.5"
  }
 },
 "nbformat": 4,
 "nbformat_minor": 5
}
