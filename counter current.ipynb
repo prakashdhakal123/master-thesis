{
 "cells": [
  {
   "cell_type": "code",
   "execution_count": 2,
   "metadata": {},
   "outputs": [],
   "source": [
    "#Pakages\n",
    "using DifferentialEquations\n",
    "using LaTeXStrings\n",
    "using Plots; pyplot(); # here, pyplot is used as a back-end to the Plots API\n",
    "using BenchmarkTools\n",
    "using Polynomials\n",
    "using LinearAlgebra"
   ]
  },
  {
   "cell_type": "code",
   "execution_count": 13,
   "metadata": {},
   "outputs": [],
   "source": [
    "# utility parameters\n",
    "LW1 = 2.5\n",
    "LW2 = 1.5\n",
    "LW3 = 1\n",
    "LS1 = :solid\n",
    "LS2 = :dot\n",
    "LS3 = :dash\n",
    "LS4 = :dashdot\n",
    "LA1 = 1\n",
    "LA2 = 0.7\n",
    "LA3 = 0.4\n",
    "# File system paths\n",
    "#\n",
    "# Figures are stored in this path.\n",
    "Figpath = \"C:\\\\Users\\\\kolds\\\\Dropbox\\\\Master's_Thesis\\\\MSc_Report_Lyx\\\\fig\\\\Simulation_Results\\\\Jupyter_Notebook_1\\\\\" \n",
    ";"
   ]
  },
  {
   "cell_type": "code",
   "execution_count": 14,
   "metadata": {},
   "outputs": [],
   "source": [
    "#  Utility functions\n",
    "# -- convert vector of samples to vector of timeseries\n",
    "equal_lengths(v) = all(x->length(x)==length(first(v)), v)\n",
    "#\n",
    "function vec2vec(v)\n",
    "    equal_lengths(v) || error(\"The element vectors must have equal lengths.\")\n",
    "    return [getindex.(v,i) for i in firstindex(v[1]):lastindex(v[1])]\n",
    "end\n",
    "\n",
    ";"
   ]
  },
  {
   "cell_type": "code",
   "execution_count": 1,
   "metadata": {},
   "outputs": [],
   "source": [
    "# Parameters\n",
    "const chpa = 1.15\t# Specific heat capacity of air, kJ.kg-1.K-1\n",
    "const chpw = 4.2\t# Specific heat capacity of water, kJ.kg-1.K-1\n",
    "\n",
    "const hAax = 55.6\t# Heat transfer, air side heat exchanger, kW/K\n",
    "const hAwx = 222\t# Heat transfer, water side heat exchanger, kW/K\n",
    "#\n",
    "# Heat exchanger length\n",
    "# const Lx = 1.0 # x = 0 to 1 , Simpler, gives a relative position and can be omitted from the heat exchanger model.\n",
    "# Because it has a value of 1, it was omitted from the model.;\n"
   ]
  },
  {
   "cell_type": "code",
   "execution_count": 4,
   "metadata": {},
   "outputs": [
    {
     "data": {
      "text/plain": [
       "cp_w (generic function with 1 method)"
      ]
     },
     "execution_count": 4,
     "metadata": {},
     "output_type": "execute_result"
    }
   ],
   "source": [
    "# BL heat capacities\n",
    "function cp_a(x)\n",
    "    cp_a0 = 1.007\n",
    "    y = x+273.15\n",
    "    y0 = 300\n",
    "    return cp_a0*(299.94 + 1.008*(y-y0)+1.2e-4*(y-y0)^2+5.9e-7*(y-y0)^3+2.56e-9*(y-y0)^4)/y\n",
    "end\n",
    "#\n",
    "function cp_w(x)\n",
    "    cp_w0 = 4.179\n",
    "    y = x+273.15\n",
    "    y0 = 300\n",
    "    return cp_w0*(0.9998-6.6e-5*(y-y0) + 6.39e-6*(y-y0)^2-1.145e-7*(y-y0)^3+8.9e-10*(y-y0)^4)\n",
    "end\n",
    ";"
   ]
  },
  {
   "cell_type": "code",
   "execution_count": 2,
   "metadata": {},
   "outputs": [],
   "source": [
    "Twc = 3.8\t# Cold water temperature, C\n",
    "Tah = 39.12\t# Hot air temperature, C\n",
    "mdw = 53.9\t# Heat exchanger water mass flow rate, kg/s\n",
    "mda = 49.2\t# Heat exchanger air mass flow rate, kg/s\n",
    "const UAx = 1 / (1 / hAax + 1 / hAwx)\t# Overall Heat transfer, heat exchanger, kW/K;"
   ]
  },
  {
   "cell_type": "code",
   "execution_count": 3,
   "metadata": {},
   "outputs": [],
   "source": [
    "#analytic solution\n",
    "function hex_a(inputs,par,x) # If x is an Array/tuple, the function can generate the temperature profile across x.\n",
    "    Twc, Tah, mdw, mda, UAx = inputs\n",
    "    chpw, chpa = par\n",
    "    # Stanton numbers for air and water.\n",
    "    NSta = UAx/chpa/mda\t# Stanton number for air, -\n",
    "    NStw = UAx/chpw/mdw\t# Stanton number for water, -\n",
    "    NStd = NStw - NSta\t# Difference in Stanton numbers, -\n",
    "    #\n",
    "    Tac = (NStd*Tah + NSta*(1-exp(-NStd))*Twc)/(NStw-NSta*exp(-NStd))    \n",
    "    Tw(x) = ((NStw*exp(-NStd*x)-NSta)*Twc+(NStw - NStw*exp(-NStd*x))*Tac)/NStd\n",
    "    Ta(x) = ((NSta*exp(-NStd*x)-NSta)*Twc+(NStw - NSta*exp(-NStd*x))*Tac)/NStd\n",
    "    return [Tw(x), Ta(x)]\n",
    "end\n",
    ";"
   ]
  },
  {
   "cell_type": "code",
   "execution_count": 12,
   "metadata": {},
   "outputs": [
    {
     "ename": "UndefVarError",
     "evalue": "UndefVarError: cp_w not defined",
     "output_type": "error",
     "traceback": [
      "UndefVarError: cp_w not defined",
      "",
      "Stacktrace:",
      " [1] top-level scope at In[12]:3"
     ]
    }
   ],
   "source": [
    "# Parameters are passed to functions in an Array to avoid problems associated with global variables.\n",
    "par_hex_a = [ chpw chpa]\n",
    "par_hex_n_Cp_T_dep = [ cp_w cp_a] # Here, cp_w and cp_a are functions.\n",
    "par_hex_n_Cp_T_indep = [ chpw chpa] # Here, chpw and chpa are constants.\n",
    "#\n",
    "# Inputs are passed to functions in an Array to avoid problems associated with global variables.\n",
    "u_hex = [Twc Tah mdw mda UAx]\n",
    "#\n",
    "# Note that both the inputs and the parameters should be passed as the same type (Array or tuple) to reduce memory allocation for the numeric solver.\n",
    "#\n",
    "# The spatial span for the problem.\n",
    "xspan_a = collect(0:0.01:1) # step size for the analytic model is specified here.\n",
    "xspan_n = (0.0, 1.0) # step size for the Numeric model depends on the method used in the solver. Shooting method"
   ]
  },
  {
   "cell_type": "code",
   "execution_count": 6,
   "metadata": {},
   "outputs": [
    {
     "ename": "UndefVarError",
     "evalue": "UndefVarError: xspan_a not defined",
     "output_type": "error",
     "traceback": [
      "UndefVarError: xspan_a not defined",
      "",
      "Stacktrace:",
      " [1] top-level scope at In[6]:1"
     ]
    }
   ],
   "source": [
    "sol_analytic = map(x -> hex_a(u_hex, par_hex_a, x), xspan_a) |> vec2vec;\n",
    "plot(xspan_a,sol_analytic[1],lc=:blue,lw=LW1,ls=LS1,la=LA1,label=\"WaterTemperature\");\n",
    "plot!(xspan_a,sol_analytic[2],lc=:red,lw=LW1,ls=LS1,la=LA1,label=\"Air Temperature\");"
   ]
  },
  {
   "cell_type": "code",
   "execution_count": 4,
   "metadata": {},
   "outputs": [],
   "source": [
    "#Numeric solution(Temperature dependent)\n",
    "function hex_n_Cp_T_dep(inputs,par,x) \n",
    "    # The function for the ODE.\n",
    "    function hex_i!(dy,y,par,x)\n",
    "        # Interior of heat exchanger with temperature dependent heat capacity\n",
    "        mdw, mda = par[3],par[4]\n",
    "        UAx, cp_w, cp_a = par[5],par[6],par[7]\n",
    "        #\n",
    "        Tw,Ta = y\n",
    "        dy[1] = -UAx/(mdw*cp_w(Tw))*(Tw - Ta)\n",
    "        dy[2] = -UAx/(mda*cp_a(Ta))*(Tw - Ta)\n",
    "    end\n",
    "    #\n",
    "    # Boundaries of heat exchanger with temperature dependent heat capacity\n",
    "    function hex_b!(residual, y, par, x)\n",
    "        Twc,Tah = par[1],par[2]\n",
    "        residual[1] = y[1][1]-Twc\t# y[1] is the beginning of the spatial span\n",
    "        residual[2] = y[end][2]-Tah\t# y[end] is the ending of the spatial span\n",
    "    end\n",
    "    #\n",
    "    u0 = [0.0, 0.0] # The initial condition.\n",
    "    prob_hex = BVProblem(hex_i!, hex_b!, u0, x, [inputs  par])\n",
    "    sol_hex = solve(prob_hex, Shooting(Vern7()), dtmax=0.01) # Three solvers are available. Shooting is the fastest.\n",
    "    return sol_hex # dtmax: Maximum dt for adaptive timestepping.\n",
    "end\n",
    ";\n"
   ]
  },
  {
   "cell_type": "code",
   "execution_count": 7,
   "metadata": {},
   "outputs": [
    {
     "ename": "UndefVarError",
     "evalue": "UndefVarError: u_hex not defined",
     "output_type": "error",
     "traceback": [
      "UndefVarError: u_hex not defined",
      "",
      "Stacktrace:",
      " [1] top-level scope at In[7]:1"
     ]
    }
   ],
   "source": [
    "sol_numeric_Cp_T_dep = hex_n_Cp_T_dep(u_hex, par_hex_n_Cp_T_dep, xspan_n);\n"
   ]
  },
  {
   "cell_type": "code",
   "execution_count": 8,
   "metadata": {},
   "outputs": [
    {
     "ename": "UndefVarError",
     "evalue": "UndefVarError: LW1 not defined",
     "output_type": "error",
     "traceback": [
      "UndefVarError: LW1 not defined",
      "",
      "Stacktrace:",
      " [1] top-level scope at In[8]:1"
     ]
    }
   ],
   "source": [
    "plot(sol_numeric_Cp_T_dep,vars=(0,1),lc=:blue,lw=LW1,ls=LS1,la=LA1,label=\"Water Temperature\");\n",
    "plot!(sol_numeric_Cp_T_dep,vars=(0,2),lc=:red,lw=LW1,ls=LS1,la=LA1,label=\"Air Temperature\");"
   ]
  },
  {
   "cell_type": "code",
   "execution_count": 5,
   "metadata": {},
   "outputs": [],
   "source": [
    "#Numeric solution(Temperature independent)\n",
    "function hex_n_Cp_T_indep(inputs,par,x)\n",
    "    # The function for the ODE.\n",
    "    function hex_i!(dy,y,par,x)\n",
    "        # Interior of heat exchanger with temperature independent heat capacity\n",
    "        mdw, mda = par[3],par[4]\n",
    "        UAx, cp_w, cp_a = par[5],par[6],par[7]\n",
    "        #\n",
    "        Tw,Ta = y\n",
    "        dy[1] = -UAx/(mdw*cp_w)*(Tw - Ta)\n",
    "        dy[2] = -UAx/(mda*cp_a)*(Tw - Ta)\n",
    "    end\n",
    "    #\n",
    "    # Boundaries of heat exchanger with temperature independent heat capacity\n",
    "    function hex_b!(residual, y, par, x)\n",
    "        Twc,Tah = par[1],par[2]\n",
    "        residual[1] = y[1][1]-Twc\t# y[1] is the beginning of the spatial span\n",
    "        residual[2] = y[end][2]-Tah\t# y[end] is the ending of the spatial span\n",
    "    end\n",
    "    #\n",
    "    u0 = [0.0, 0.0] # The initial condition.\n",
    "    prob_hex = BVProblem(hex_i!, hex_b!, u0, x, [inputs  par])\n",
    "    sol_hex = solve(prob_hex, Shooting(Vern7()), dtmax=0.01) # Three solvers are available. Shooting is the fastest.\n",
    "    return sol_hex # dtmax: Maximum dt for adaptive timestepping.\n",
    "end\n",
    ";"
   ]
  },
  {
   "cell_type": "code",
   "execution_count": 9,
   "metadata": {},
   "outputs": [
    {
     "ename": "UndefVarError",
     "evalue": "UndefVarError: u_hex not defined",
     "output_type": "error",
     "traceback": [
      "UndefVarError: u_hex not defined",
      "",
      "Stacktrace:",
      " [1] top-level scope at In[9]:1"
     ]
    }
   ],
   "source": [
    "sol_numeric_Cp_T_dep = hex_n_Cp_T_indep(u_hex, par_hex_n_Cp_T_dep, xspan_n);"
   ]
  },
  {
   "cell_type": "code",
   "execution_count": 11,
   "metadata": {},
   "outputs": [
    {
     "ename": "UndefVarError",
     "evalue": "UndefVarError: LW1 not defined",
     "output_type": "error",
     "traceback": [
      "UndefVarError: LW1 not defined",
      "",
      "Stacktrace:",
      " [1] top-level scope at In[11]:1"
     ]
    }
   ],
   "source": [
    "plot(sol_numeric_Cp_T_indep,vars=(0,1),lc=:blue,lw=LW1,ls=LS1,la=LA1,label=\"Water Temperature\");\n",
    "plot!(sol_numeric_Cp_T_indep,vars=(0,2),lc=:red,lw=LW1,ls=LS1,la=LA1,label=\"Air Temperature\");"
   ]
  },
  {
   "cell_type": "code",
   "execution_count": 10,
   "metadata": {},
   "outputs": [
    {
     "ename": "LoadError",
     "evalue": "UndefVarError: @benchmark not defined",
     "output_type": "error",
     "traceback": [
      "UndefVarError: @benchmark not defined",
      ""
     ]
    }
   ],
   "source": [
    "#time calculation\n",
    "@benchmark sol_analytic = map(x -> hex_a(u_hex, par_hex_a, x), xspan_a) |> vec2vec\n",
    "@benchmark sol_numeric_Cp_T_dep = hex_n_Cp_T_dep(u_hex, par_hex_n_Cp_T_dep, xspan_n)\n",
    "@benchmark sol_numeric_Cp_T_dep = hex_n_Cp_T_indep(u_hex, par_hex_n_Cp_T_dep, xspan_n)"
   ]
  },
  {
   "cell_type": "code",
   "execution_count": null,
   "metadata": {},
   "outputs": [],
   "source": []
  }
 ],
 "metadata": {
  "kernelspec": {
   "display_name": "Julia 1.0.5",
   "language": "julia",
   "name": "julia-1.0"
  },
  "language_info": {
   "file_extension": ".jl",
   "mimetype": "application/julia",
   "name": "julia",
   "version": "1.0.5"
  }
 },
 "nbformat": 4,
 "nbformat_minor": 4
}
