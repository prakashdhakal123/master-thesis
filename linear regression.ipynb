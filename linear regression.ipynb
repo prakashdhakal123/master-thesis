{
 "cells": [
  {
   "cell_type": "code",
   "execution_count": 4,
   "id": "copyrighted-peoples",
   "metadata": {},
   "outputs": [
    {
     "ename": "ArgumentError",
     "evalue": "ArgumentError: Package PyPlot not found in current path:\n- Run `import Pkg; Pkg.add(\"PyPlot\")` to install the PyPlot package.\n",
     "output_type": "error",
     "traceback": [
      "ArgumentError: Package PyPlot not found in current path:\n- Run `import Pkg; Pkg.add(\"PyPlot\")` to install the PyPlot package.\n",
      "",
      "Stacktrace:",
      " [1] require(::Module, ::Symbol) at .\\loading.jl:823",
      " [2] top-level scope at C:\\Users\\prakash\\.julia\\packages\\Plots\\cc8wh\\src\\backends.jl:488",
      " [3] eval at .\\boot.jl:319 [inlined]",
      " [4] _initialize_backend(::Plots.PyPlotBackend) at C:\\Users\\prakash\\.julia\\packages\\Plots\\cc8wh\\src\\backends.jl:487",
      " [5] backend(::Plots.PyPlotBackend) at C:\\Users\\prakash\\.julia\\packages\\Plots\\cc8wh\\src\\backends.jl:176",
      " [6] #pyplot#278 at C:\\Users\\prakash\\.julia\\packages\\Plots\\cc8wh\\src\\backends.jl:33 [inlined]",
      " [7] pyplot() at C:\\Users\\prakash\\.julia\\packages\\Plots\\cc8wh\\src\\backends.jl:33",
      " [8] top-level scope at In[4]:4"
     ]
    }
   ],
   "source": [
    "#pakagea\n",
    "using DifferentialEquations;\n",
    "using LaTeXStrings;\n",
    "using Plots; pyplot(); # here, pyplot is used as a back-end to the Plots API\n",
    "using Plots.PlotMeasures;\n",
    "using BenchmarkTools;\n",
    "using Combinatorics;\n",
    "using ProgressMeter;\n",
    "using DataFrames;\n",
    "using GLM;\n",
    "using LinearAlgebra;\n",
    "using StatsBase;"
   ]
  },
  {
   "cell_type": "code",
   "execution_count": 2,
   "id": "collected-sapphire",
   "metadata": {},
   "outputs": [],
   "source": [
    "# Plot parameters\n",
    "LW1 = 2.5\n",
    "LW2 = 1.5\n",
    "LW3 = 1\n",
    "LS1 = :solid\n",
    "LS2 = :dot\n",
    "LS3 = :dash\n",
    "LS4 = :dashdot\n",
    "LA1 = 1\n",
    "LA2 = 0.7\n",
    "LA3 = 0.4\n",
    "# File system paths\n",
    "#\n",
    "# Figures are stored in this path.\n",
    "Figpath = \"C:\\\\Users\\\\kolds\\\\Dropbox\\\\Master's_Thesis\\\\MSc_Report_Lyx\\\\fig\\\\Simulation_Results\\\\Jupyter_Notebook_3\\\\\" \n",
    ";"
   ]
  },
  {
   "cell_type": "code",
   "execution_count": 5,
   "id": "administrative-salvation",
   "metadata": {},
   "outputs": [],
   "source": [
    "#  Utility functions\n",
    "# -- convert vector of samples to vector of timeseries\n",
    "equal_lengths(v) = all(x->length(x)==length(first(v)), v)\n",
    "#\n",
    "function vec2vec(v)\n",
    "    equal_lengths(v) || error(\"The element vectors must have equal lengths.\")\n",
    "    return [getindex.(v,i) for i in firstindex(v[1]):lastindex(v[1])]\n",
    "end\n",
    "\n",
    ";"
   ]
  },
  {
   "cell_type": "code",
   "execution_count": 6,
   "id": "waiting-evolution",
   "metadata": {},
   "outputs": [],
   "source": [
    "# Parameters\n",
    "const chpa = 1.15\t# Specific heat capacity of air, kJ.kg-1.K-1\n",
    "const chpw = 4.2\t# Specific heat capacity of water, kJ.kg-1.K-1\n",
    "\n",
    "const hAax = 55.6\t# Heat transfer, air side heat exchanger, kW/K\n",
    "const hAwx = 222\t# Heat transfer, water side heat exchanger, kW/K\n",
    "#\n",
    "# Heat exchanger length\n",
    "# const Lx = 1.0 # x = 0 to 1 , Simpler, gives a relative position and can be omitted from the heat exchanger model.\n",
    "# Because it has a value of 1, it was omitted from the model.;\n"
   ]
  },
  {
   "cell_type": "code",
   "execution_count": 9,
   "id": "guilty-andrew",
   "metadata": {},
   "outputs": [],
   "source": [
    "# Experimental ranges\n",
    "n_exp = 3\n",
    "n_Tw = n_exp\n",
    "n_Ta = n_exp\n",
    "n_mdw = n_exp\n",
    "n_mda = n_exp\n",
    "n_UAx = n_exp\n",
    "\n",
    "r_Twc = range(4.,30.,length=n_Tw)\n",
    "r_Tah = range(40.,100.,length=n_Ta)\n",
    "r_mdw = range(20,200,length=n_mdw)\n",
    "r_mda = range(20,200,length=n_mda)\n",
    "r_UAx = range(20,200,length=n_UAx)\n",
    "#\n",
    "x_grid = [[Twc,Tah,mdw,mda,UAx] for Twc in r_Twc, Tah in r_Tah,mdw in r_mdw,mda in r_mda,UAx in r_UAx];"
   ]
  },
  {
   "cell_type": "code",
   "execution_count": 10,
   "id": "secondary-friendship",
   "metadata": {},
   "outputs": [
    {
     "ename": "UndefVarError",
     "evalue": "UndefVarError: ngrid not defined",
     "output_type": "error",
     "traceback": [
      "UndefVarError: ngrid not defined",
      "",
      "Stacktrace:",
      " [1] top-level scope at In[10]:1"
     ]
    }
   ],
   "source": [
    "#solving models for all inputs\n",
    "for i in 1:ngrid    \n",
    "    Twc,Tah,mdw,mda,UAx = x_grid[i]\n",
    "    u_hex = [Twc Tah mdw mda]   \n",
    "    par_hex_a = [UAx chpw chpa]\n",
    "    par_hex_n_Cp_T_dep = [UAx cp_w cp_a]\n",
    "    sol_analytic = map(dx -> hex_a(u_hex, par_hex_a, dx), xspan_a)\n",
    "    XAgrid[:,i] .= [sol_analytic[end][1],sol_analytic[1][end],mda,mdw,UAx]\n",
    "    sol_numeric = hex_n_Cp_T_dep(u_hex, par_hex_n_Cp_T_dep, xspan_n)\n",
    "    TNgrid[:,i] .= [sol_numeric[end][1],sol_numeric[1][end]]\n",
    "end\n",
    ";"
   ]
  },
  {
   "cell_type": "code",
   "execution_count": 11,
   "id": "southeast-schema",
   "metadata": {},
   "outputs": [
    {
     "ename": "UndefVarError",
     "evalue": "UndefVarError: XAgrid not defined",
     "output_type": "error",
     "traceback": [
      "UndefVarError: XAgrid not defined",
      "",
      "Stacktrace:",
      " [1] top-level scope at In[11]:1"
     ]
    }
   ],
   "source": [
    "X = XAgrid;\n",
    "Y= TNgrid;"
   ]
  },
  {
   "cell_type": "code",
   "execution_count": 12,
   "id": "talented-craps",
   "metadata": {},
   "outputs": [
    {
     "ename": "UndefVarError",
     "evalue": "UndefVarError: mean not defined",
     "output_type": "error",
     "traceback": [
      "UndefVarError: mean not defined",
      "",
      "Stacktrace:",
      " [1] top-level scope at In[12]:1"
     ]
    }
   ],
   "source": [
    "#scaling\n",
    "Xm = mean(X,dims=2);\n",
    "Xstd = std(X,dims=2);\n",
    "Xscale = [(X[i,:].-Xm[i])/Xstd[i] for i in 1:size(X,1)] |> x -> reduce(hcat,x) |> permutedims;\n",
    "Ym = mean(Y,dims=2);\n",
    "Ystd = std(Y,dims=2);\n",
    "Yscale = [(Y[i,:].-Ym[i])/Ystd[i] for i in 1:size(Y,1)] |> x -> reduce(hcat,x) |> permutedims"
   ]
  },
  {
   "cell_type": "code",
   "execution_count": 13,
   "id": "delayed-store",
   "metadata": {},
   "outputs": [
    {
     "ename": "UndefVarError",
     "evalue": "UndefVarError: Yscale not defined",
     "output_type": "error",
     "traceback": [
      "UndefVarError: Yscale not defined",
      "",
      "Stacktrace:",
      " [1] top-level scope at In[13]:1"
     ]
    }
   ],
   "source": [
    "#Estimating parameters\n",
    "β= Yscale/Xscale"
   ]
  },
  {
   "cell_type": "code",
   "execution_count": 14,
   "id": "phantom-dispatch",
   "metadata": {},
   "outputs": [
    {
     "ename": "UndefVarError",
     "evalue": "UndefVarError: Xscale not defined",
     "output_type": "error",
     "traceback": [
      "UndefVarError: Xscale not defined",
      "",
      "Stacktrace:",
      " [1] top-level scope at In[14]:5"
     ]
    }
   ],
   "source": [
    "#calculating error for multiple order\n",
    "nmax = 12\n",
    "e1 = zeros(nmax)\n",
    "for j in 1:nmax\n",
    "    Phi = [phi_m(Xscale[:,i];n=j) for i in 1:size(Xscale,2)]  |> x -> reduce(hcat,x)\n",
    "    println(cond(Phi))\n",
    "    β= Yscale/Phi\n",
    "    E1= Yscale-β*Phi\n",
    "    e1[j] = norm(E1)/sqrt(length(Yscale))\n",
    "end\n",
    "   ; "
   ]
  },
  {
   "cell_type": "code",
   "execution_count": 15,
   "id": "unlimited-closer",
   "metadata": {},
   "outputs": [
    {
     "data": {
      "text/plain": [
       "timecalc (generic function with 1 method)"
      ]
     },
     "execution_count": 15,
     "metadata": {},
     "output_type": "execute_result"
    }
   ],
   "source": [
    "# buliding hybrid model\n",
    "#combining analytic model with regression model\n",
    "function timecalc(k)\n",
    "    function hex_a(inputs,par,β) \n",
    "    Twc, Tah, mdw, mda,UAx = inputs\n",
    "    chpw, chpa = par\n",
    "    # Stanton numbers for air and water.\n",
    "    NSta = UAx/chpa/mda\t# Stanton number for air, -\n",
    "    NStw = UAx/chpw/mdw\t# Stanton number for water, -\n",
    "    NStd = NStw - NSta\t# Difference in Stanton numbers, -\n",
    "    #\n",
    "    Tac = (NStd*Tah + NSta*(1-exp(-NStd))*Twc)/(NStw-NSta*exp(-NStd))    \n",
    "    Tw(x) = ((NStw*exp(-NStd*x)-NSta)*Twc+(NStw - NStw*exp(-NStd*x))*Tac)/NStd\n",
    "    Ta(x) = ((NSta*exp(-NStd*x)-NSta)*Twc+(NStw - NSta*exp(-NStd*x))*Tac)/NStd\n",
    "    Phi = [phi_m(Xscale[:,i];n=norder) for i in 1:size(Xscale,2)]  |> x -> reduce(hcat,x)\n",
    "    Ys=β*Phi\n",
    "    return [Ys[1] Ys[end]]\n",
    "    end\n",
    "end    "
   ]
  }
 ],
 "metadata": {
  "kernelspec": {
   "display_name": "Julia 1.0.5",
   "language": "julia",
   "name": "julia-1.0"
  },
  "language_info": {
   "file_extension": ".jl",
   "mimetype": "application/julia",
   "name": "julia",
   "version": "1.0.5"
  }
 },
 "nbformat": 4,
 "nbformat_minor": 5
}
