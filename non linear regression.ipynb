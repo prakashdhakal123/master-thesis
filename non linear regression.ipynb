{
 "cells": [
  {
   "cell_type": "code",
   "execution_count": 1,
   "id": "micro-accessory",
   "metadata": {},
   "outputs": [
    {
     "ename": "ArgumentError",
     "evalue": "ArgumentError: Package PyPlot not found in current path:\n- Run `import Pkg; Pkg.add(\"PyPlot\")` to install the PyPlot package.\n",
     "output_type": "error",
     "traceback": [
      "ArgumentError: Package PyPlot not found in current path:\n- Run `import Pkg; Pkg.add(\"PyPlot\")` to install the PyPlot package.\n",
      "",
      "Stacktrace:",
      " [1] require(::Module, ::Symbol) at .\\loading.jl:823",
      " [2] top-level scope at C:\\Users\\prakash\\.julia\\packages\\Plots\\cc8wh\\src\\backends.jl:488",
      " [3] eval at .\\boot.jl:319 [inlined]",
      " [4] _initialize_backend(::Plots.PyPlotBackend) at C:\\Users\\prakash\\.julia\\packages\\Plots\\cc8wh\\src\\backends.jl:487",
      " [5] backend(::Plots.PyPlotBackend) at C:\\Users\\prakash\\.julia\\packages\\Plots\\cc8wh\\src\\backends.jl:176",
      " [6] #pyplot#278 at C:\\Users\\prakash\\.julia\\packages\\Plots\\cc8wh\\src\\backends.jl:33 [inlined]",
      " [7] pyplot() at C:\\Users\\prakash\\.julia\\packages\\Plots\\cc8wh\\src\\backends.jl:33",
      " [8] top-level scope at In[1]:4"
     ]
    }
   ],
   "source": [
    "#pakages\n",
    "using DifferentialEquations\n",
    "using LaTeXStrings\n",
    "using Plots; pyplot(); # here, pyplot is used as a back-end to the Plots API\n",
    "using Plots.PlotMeasures\n",
    "using Flux\n",
    "using ProgressMeter\n",
    "using Combinatorics\n",
    "using BSON: @save\n",
    "using StatsBase"
   ]
  },
  {
   "cell_type": "code",
   "execution_count": 2,
   "id": "native-pickup",
   "metadata": {},
   "outputs": [],
   "source": [
    "# BL Utility functions\n",
    "#\n",
    "# Normalization function\n",
    "function normalize(X)\n",
    "    Xmin = minimum(X,dims=2)\n",
    "    Xmax = maximum(X,dims=2)\n",
    "    Xnorm = (X .- Xmin)./(Xmax-Xmin)\n",
    "    denormalize = (Xnorm,Xmin,Xmax) -> Xnorm.*(Xmax-Xmin).+Xmin\n",
    "    return Xnorm, Xmin,Xmax,denormalize\n",
    "end\n",
    ";"
   ]
  },
  {
   "cell_type": "code",
   "execution_count": 3,
   "id": "proof-farming",
   "metadata": {},
   "outputs": [
    {
     "ename": "UndefVarError",
     "evalue": "UndefVarError: Dense not defined",
     "output_type": "error",
     "traceback": [
      "UndefVarError: Dense not defined",
      "",
      "Stacktrace:",
      " [1] top-level scope at In[3]:6"
     ]
    }
   ],
   "source": [
    "#constructing model and training them\n",
    "# no of epochs\n",
    "nE = 50 \n",
    "# no of internal node\n",
    "nz = 10\n",
    "# defining model\n",
    "md = Chain(Dense(5,nz,tanh),Dense(nz,2))\n",
    "# Initial mapping\n",
    "Yd_0= md(Xd)\n",
    "#Defining loss function\n",
    "loss(x, y) = mean((md(x).-y).^2)\n",
    "#specyfying optimization method\n",
    "opt = ADAM(0.01, (0.99, 0.999))\n",
    "# Extracting parameters from the model\n",
    "par = Flux.params(md)\n",
    "# Training over nE epochs\n",
    "for i in 1:nE\n",
    "    Flux.train!(loss,par,data,opt)\n",
    "end\n",
    "# Final mapping\n",
    "Yd_nE = md(Xd);"
   ]
  },
  {
   "cell_type": "code",
   "execution_count": 4,
   "id": "promotional-unemployment",
   "metadata": {},
   "outputs": [
    {
     "ename": "UndefVarError",
     "evalue": "UndefVarError: Yd_nE not defined",
     "output_type": "error",
     "traceback": [
      "UndefVarError: Yd_nE not defined",
      "",
      "Stacktrace:",
      " [1] top-level scope at In[4]:1"
     ]
    }
   ],
   "source": [
    "# Calculating error\n",
    "RMSE = norm(Yd_nE-Yd)^2/sqrt(length(Yd))"
   ]
  },
  {
   "cell_type": "code",
   "execution_count": 5,
   "id": "latin-bruce",
   "metadata": {},
   "outputs": [
    {
     "ename": "UndefVarError",
     "evalue": "UndefVarError: RMSE not defined",
     "output_type": "error",
     "traceback": [
      "UndefVarError: RMSE not defined",
      "",
      "Stacktrace:",
      " [1] top-level scope at In[5]:1"
     ]
    }
   ],
   "source": [
    "#ploting error w.r.t node\n",
    "plot(nz,RMSE,label=\"\",xlabel=\"node\",ylabel=\"RMSE\")"
   ]
  }
 ],
 "metadata": {
  "kernelspec": {
   "display_name": "Julia 1.0.5",
   "language": "julia",
   "name": "julia-1.0"
  },
  "language_info": {
   "file_extension": ".jl",
   "mimetype": "application/julia",
   "name": "julia",
   "version": "1.0.5"
  }
 },
 "nbformat": 4,
 "nbformat_minor": 5
}
